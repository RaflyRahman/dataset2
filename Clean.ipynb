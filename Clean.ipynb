{
 "cells": [
  {
   "cell_type": "code",
   "execution_count": 68,
   "id": "9ce511e8",
   "metadata": {},
   "outputs": [],
   "source": [
    "import os\n",
    "from typing import List\n",
    "import pandas as pd\n",
    "\n",
    "\n",
    "def get_datafile_path() -> str:\n",
    "    \"\"\"Store relative path to \"data\" folder in a string.\n",
    "    Arguments:\n",
    "        None\n",
    "    Returns:\n",
    "        str -- path to \"data\" folder\n",
    "    \"\"\"\n",
    "    absolute_path = os.path.abspath('C:/Users/diego/OneDrive/Desktop/UAQ/séptimo semestre/Proyectos/customer segmentation/marketing_campaign.csv')\n",
    "    return os.path.dirname(absolute_path)\n",
    "\n"
   ]
  },
  {
   "cell_type": "code",
   "execution_count": 69,
   "id": "2b8f1b65",
   "metadata": {},
   "outputs": [],
   "source": [
    "def list_data_files(data_directory: str) -> List[str]:\n",
    "    \"\"\"Rename data files. Produce a list of files in the \"data\" folder.\n",
    "    Currently limited to csv files only.\n",
    "    Arguments:\n",
    "        data_directory {str} -- relative path to \"data\" folder\n",
    "    Returns:\n",
    "        List[str] -- list of path strings to files in data folder\n",
    "    \"\"\"\n",
    "    # Rename files in data folder\n",
    "    list_of_files = []\n",
    "    for data_file in os.listdir(data_directory):\n",
    "        file_path = os.path.join(data_directory, data_file)\n",
    "\n",
    "        # Check that a file exists and does not have a \"raw_\" prefix in name\n",
    "        if os.path.isfile(file_path) and \"raw_\" not in data_file:\n",
    "            if \"clean_\" not in data_file:\n",
    "                # If there is only one data file in the folder\n",
    "                if len(os.listdir(data_directory)) == 1:\n",
    "                    os.rename(file_path,\n",
    "                              os.path.join(data_directory, \"raw_data.csv\"))\n",
    "                # If more than 1 file then add \"raw_\" prefix\n",
    "                else:\n",
    "                    os.rename(file_path,\n",
    "                              os.path.join(data_directory, f\"raw_{data_file}\"))\n",
    "\n",
    "        # Append to list of files to be read into pandas DataFrames\n",
    "        if \"raw_\" in data_file:\n",
    "            list_of_files.append(file_path)\n",
    "\n",
    "    return list_of_files"
   ]
  },
  {
   "cell_type": "code",
   "execution_count": 70,
   "id": "2a4d4dad",
   "metadata": {},
   "outputs": [],
   "source": [
    "def load_to_dataframe(data_directory: str) -> pd.DataFrame:\n",
    "    \"\"\"Load a file to a Pandas DataFrame.\n",
    "    Arguments:\n",
    "        data_directory {str} -- Path to \"data\" folder\n",
    "    Returns:\n",
    "        pd.DataFrame -- a pandas DataFrame object\n",
    "    \"\"\"\n",
    "    return pd.read_csv(data_directory, sep='\\t')  # Tab separator"
   ]
  },
  {
   "cell_type": "code",
   "execution_count": 71,
   "id": "50a2bf7e",
   "metadata": {},
   "outputs": [],
   "source": [
    "def remove_missing_data(dataframe: pd.DataFrame) -> pd.DataFrame:\n",
    "    \"\"\"Remove rows containing NA, NaN or NULL values.\n",
    "    Arguments:\n",
    "        dataframe {pd.DataFrame} -- pandas DataFrame to be processed\n",
    "    Returns:\n",
    "        pd.DataFrame -- pandas DataFrame after processing\n",
    "    \"\"\"\n",
    "    return dataframe.dropna(axis=0, inplace=True, how=\"any\")"
   ]
  },
  {
   "cell_type": "code",
   "execution_count": 72,
   "id": "9b1cf757",
   "metadata": {},
   "outputs": [],
   "source": [
    "def remove_duplicates(dataframe: pd.DataFrame) -> pd.DataFrame:\n",
    "    \"\"\"Remove duplicate rows and keep the first instance.\n",
    "    Arguments:\n",
    "        dataframe {pd.DataFrame} -- pandas DataFrame to be processed\n",
    "    Returns:\n",
    "        pd.DataFrame -- pandas DataFrame after processing\n",
    "    \"\"\"\n",
    "    return dataframe.drop_duplicates(subset=None, keep=\"first\", inplace=True,\n",
    "                                     ignore_index=False)"
   ]
  },
  {
   "cell_type": "code",
   "execution_count": 73,
   "id": "4b197742",
   "metadata": {},
   "outputs": [],
   "source": [
    "def export_dataset(dataframe: pd.DataFrame, data_directory: str) -> None:\n",
    "    \"\"\"Export a pandas DataFrame to csv.\n",
    "    Arguments:\n",
    "        dataframe {pd.DataFrame} -- pandas DataFrame object to be exported\n",
    "        data_directory {str} -- path to directory where csv is to be stored\n",
    "    Returns:\n",
    "        None\n",
    "    \"\"\"\n",
    "    dataframe.to_csv(data_directory, sep=',', index=False)"
   ]
  },
  {
   "cell_type": "code",
   "execution_count": 75,
   "id": "080a506f",
   "metadata": {},
   "outputs": [],
   "source": [
    "def main() -> None:\n",
    "    \"\"\"\n",
    "    Main program driver where functions are called and are ran in a logical\n",
    "    manner.\n",
    "    Arguments:\n",
    "        None\n",
    "    Returns:\n",
    "        None\n",
    "    \"\"\"\n",
    "    data_path = get_datafile_path()\n",
    "    csv_list = list_data_files(data_path)\n",
    "\n",
    "    # Load each csv into a DataFrame and key by \"df_x\" where x is csv number\n",
    "    df_list = []\n",
    "    for item in range(0, len(csv_list)):\n",
    "        df_list.append(load_to_dataframe(csv_list[item]))\n",
    "    for df in df_list:\n",
    "        remove_missing_data(df)\n",
    "        remove_duplicates(df)\n",
    "    for i in range(0, len(df_list)):\n",
    "        export_dataset(df, data_path + \"\\\\clean_df_\" + f\"{i + 1}\" + \".csv\")\n",
    "\n",
    "\n",
    "if __name__ == '__main__':\n",
    "    main()"
   ]
  }
 ],
 "metadata": {
  "kernelspec": {
   "display_name": "Python 3 (ipykernel)",
   "language": "python",
   "name": "python3"
  },
  "language_info": {
   "codemirror_mode": {
    "name": "ipython",
    "version": 3
   },
   "file_extension": ".py",
   "mimetype": "text/x-python",
   "name": "python",
   "nbconvert_exporter": "python",
   "pygments_lexer": "ipython3",
   "version": "3.8.12"
  }
 },
 "nbformat": 4,
 "nbformat_minor": 5
}
